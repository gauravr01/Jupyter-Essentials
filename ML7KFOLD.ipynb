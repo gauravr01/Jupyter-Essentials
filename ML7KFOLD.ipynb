{
 "cells": [
  {
   "cell_type": "code",
   "execution_count": 1,
   "id": "fcb7d72d",
   "metadata": {},
   "outputs": [],
   "source": [
    "from sklearn.linear_model import LogisticRegression\n",
    "from sklearn.svm import SVC\n",
    "from sklearn.ensemble import RandomForestClassifier\n",
    "import numpy as np\n",
    "from sklearn.datasets import load_digits\n",
    "import matplotlib.pyplot as plt\n",
    "digits = load_digits()"
   ]
  },
  {
   "cell_type": "code",
   "execution_count": 5,
   "id": "764dae1a",
   "metadata": {},
   "outputs": [
    {
     "data": {
      "text/plain": [
       "['DESCR', 'data', 'feature_names', 'frame', 'images', 'target', 'target_names']"
      ]
     },
     "execution_count": 5,
     "metadata": {},
     "output_type": "execute_result"
    }
   ],
   "source": [
    "dir(digits)"
   ]
  },
  {
   "cell_type": "code",
   "execution_count": 2,
   "id": "e22c6393",
   "metadata": {},
   "outputs": [],
   "source": [
    "\n",
    "from sklearn.model_selection import train_test_split\n",
    "X_train, X_test, y_train, y_test = train_test_split(digits.data,digits.target,test_size=0.3)"
   ]
  },
  {
   "cell_type": "code",
   "execution_count": 4,
   "id": "76a7074a",
   "metadata": {},
   "outputs": [
    {
     "data": {
      "text/plain": [
       "(array([[ 0.,  0.,  6., ...,  0.,  0.,  0.],\n",
       "        [ 0.,  0.,  4., ...,  0.,  0.,  0.],\n",
       "        [ 0.,  0.,  1., ...,  3.,  0.,  0.],\n",
       "        ...,\n",
       "        [ 0.,  0.,  1., ...,  3.,  0.,  0.],\n",
       "        [ 0.,  0.,  6., ...,  0.,  0.,  0.],\n",
       "        [ 0.,  0.,  2., ..., 12.,  0.,  0.]]),\n",
       " array([[ 0.,  0.,  9., ...,  0.,  0.,  0.],\n",
       "        [ 0.,  0.,  0., ..., 12.,  8.,  0.],\n",
       "        [ 0.,  2., 10., ...,  0.,  0.,  0.],\n",
       "        ...,\n",
       "        [ 0.,  0.,  0., ...,  1.,  0.,  0.],\n",
       "        [ 0.,  3., 12., ...,  6.,  0.,  0.],\n",
       "        [ 0.,  0.,  3., ...,  0.,  0.,  0.]]),\n",
       " array([5, 5, 9, ..., 1, 7, 9]),\n",
       " array([5, 6, 7, 3, 2, 0, 1, 8, 9, 7, 9, 9, 2, 3, 6, 6, 4, 1, 0, 5, 8, 9,\n",
       "        4, 4, 6, 3, 5, 8, 1, 1, 8, 9, 5, 9, 7, 8, 2, 6, 7, 0, 7, 7, 1, 3,\n",
       "        0, 8, 2, 7, 0, 8, 8, 9, 1, 0, 7, 7, 1, 9, 6, 1, 2, 1, 7, 8, 8, 1,\n",
       "        0, 2, 1, 0, 1, 7, 6, 4, 4, 6, 3, 3, 0, 9, 6, 4, 0, 1, 7, 8, 1, 6,\n",
       "        8, 4, 8, 9, 8, 4, 7, 9, 6, 4, 8, 5, 6, 3, 4, 7, 2, 4, 2, 5, 9, 2,\n",
       "        0, 3, 5, 6, 7, 3, 0, 0, 3, 2, 1, 8, 6, 1, 1, 6, 2, 0, 1, 3, 7, 9,\n",
       "        2, 2, 8, 9, 5, 9, 3, 6, 0, 9, 1, 2, 4, 5, 4, 9, 5, 4, 9, 4, 0, 9,\n",
       "        6, 7, 4, 9, 1, 2, 1, 6, 7, 5, 0, 6, 5, 4, 2, 8, 6, 5, 4, 8, 2, 4,\n",
       "        9, 2, 5, 4, 2, 7, 1, 3, 9, 6, 0, 6, 3, 5, 2, 4, 7, 1, 7, 3, 7, 2,\n",
       "        4, 0, 1, 2, 3, 3, 4, 6, 3, 3, 6, 6, 5, 1, 7, 4, 3, 2, 0, 0, 7, 7,\n",
       "        2, 6, 5, 4, 6, 7, 3, 1, 9, 7, 4, 2, 4, 3, 1, 5, 4, 6, 7, 0, 2, 9,\n",
       "        0, 7, 2, 7, 0, 1, 0, 7, 5, 2, 3, 2, 5, 6, 1, 0, 5, 1, 7, 1, 4, 2,\n",
       "        9, 1, 4, 1, 1, 1, 1, 8, 4, 9, 0, 9, 3, 9, 8, 7, 6, 3, 9, 5, 5, 0,\n",
       "        8, 2, 0, 5, 5, 3, 7, 4, 0, 4, 5, 9, 1, 7, 0, 0, 5, 5, 8, 2, 8, 9,\n",
       "        0, 8, 4, 0, 2, 5, 3, 7, 5, 0, 1, 7, 8, 3, 7, 0, 3, 4, 3, 0, 7, 1,\n",
       "        1, 1, 5, 0, 6, 5, 4, 7, 0, 1, 8, 0, 4, 2, 4, 6, 5, 8, 6, 9, 9, 2,\n",
       "        6, 6, 1, 9, 2, 8, 0, 1, 1, 5, 8, 9, 8, 8, 2, 9, 3, 5, 7, 2, 4, 5,\n",
       "        5, 3, 7, 4, 1, 5, 9, 0, 0, 8, 8, 3, 8, 4, 7, 0, 4, 2, 6, 0, 6, 3,\n",
       "        7, 2, 1, 2, 2, 8, 1, 1, 3, 6, 3, 3, 7, 7, 4, 3, 4, 9, 2, 9, 0, 8,\n",
       "        8, 9, 0, 1, 7, 7, 5, 0, 0, 7, 2, 7, 2, 5, 5, 0, 0, 0, 3, 3, 9, 9,\n",
       "        3, 3, 4, 6, 2, 0, 0, 5, 1, 3, 4, 9, 8, 4, 8, 4, 6, 0, 1, 6, 7, 6,\n",
       "        6, 2, 1, 1, 7, 1, 2, 5, 5, 6, 4, 4, 3, 9, 1, 6, 3, 8, 9, 8, 8, 9,\n",
       "        4, 8, 4, 0, 3, 6, 1, 2, 3, 7, 5, 4, 3, 2, 1, 4, 2, 6, 5, 1, 3, 1,\n",
       "        9, 8, 3, 1, 1, 8, 3, 0, 9, 8, 2, 9, 0, 2, 2, 9, 2, 1, 3, 2, 2, 9,\n",
       "        2, 8, 9, 9, 9, 8, 1, 4, 8, 7, 3, 7]))"
      ]
     },
     "execution_count": 4,
     "metadata": {},
     "output_type": "execute_result"
    }
   ],
   "source": [
    "X_train, X_test, y_train, y_test"
   ]
  },
  {
   "cell_type": "code",
   "execution_count": 1,
   "id": "aa3d87a3",
   "metadata": {},
   "outputs": [
    {
     "ename": "NameError",
     "evalue": "name 'LogisticRegression' is not defined",
     "output_type": "error",
     "traceback": [
      "\u001b[1;31m---------------------------------------------------------------------------\u001b[0m",
      "\u001b[1;31mNameError\u001b[0m                                 Traceback (most recent call last)",
      "Cell \u001b[1;32mIn[1], line 1\u001b[0m\n\u001b[1;32m----> 1\u001b[0m lr \u001b[38;5;241m=\u001b[39m \u001b[43mLogisticRegression\u001b[49m(solver\u001b[38;5;241m=\u001b[39m\u001b[38;5;124m'\u001b[39m\u001b[38;5;124mliblinear\u001b[39m\u001b[38;5;124m'\u001b[39m,multi_class\u001b[38;5;241m=\u001b[39m\u001b[38;5;124m'\u001b[39m\u001b[38;5;124movr\u001b[39m\u001b[38;5;124m'\u001b[39m)\n\u001b[0;32m      2\u001b[0m lr\u001b[38;5;241m.\u001b[39mfit(X_train, y_train)\n\u001b[0;32m      3\u001b[0m lr\u001b[38;5;241m.\u001b[39mscore(X_test, y_test)\n",
      "\u001b[1;31mNameError\u001b[0m: name 'LogisticRegression' is not defined"
     ]
    }
   ],
   "source": [
    "\n",
    "lr = LogisticRegression(solver='liblinear',multi_class='ovr')\n",
    "lr.fit(X_train, y_train)\n",
    "lr.score(X_test, y_test)"
   ]
  },
  {
   "cell_type": "code",
   "execution_count": 4,
   "id": "bba52439",
   "metadata": {},
   "outputs": [
    {
     "data": {
      "text/plain": [
       "0.3425925925925926"
      ]
     },
     "execution_count": 4,
     "metadata": {},
     "output_type": "execute_result"
    }
   ],
   "source": [
    "svm = SVC(gamma='auto')\n",
    "svm.fit(X_train, y_train)\n",
    "svm.score(X_test, y_test)"
   ]
  },
  {
   "cell_type": "code",
   "execution_count": 6,
   "id": "2ad91e26",
   "metadata": {},
   "outputs": [
    {
     "data": {
      "text/plain": [
       "0.975925925925926"
      ]
     },
     "execution_count": 6,
     "metadata": {},
     "output_type": "execute_result"
    }
   ],
   "source": [
    "rf = RandomForestClassifier(n_estimators=40)\n",
    "rf.fit(X_train, y_train)\n",
    "rf.score(X_test, y_test)"
   ]
  },
  {
   "cell_type": "code",
   "execution_count": 7,
   "id": "6da6570f",
   "metadata": {},
   "outputs": [
    {
     "data": {
      "text/plain": [
       "KFold(n_splits=3, random_state=None, shuffle=False)"
      ]
     },
     "execution_count": 7,
     "metadata": {},
     "output_type": "execute_result"
    }
   ],
   "source": [
    "#KFOLD\n",
    "from sklearn.model_selection import KFold\n",
    "kf = KFold(n_splits=3)\n",
    "kf"
   ]
  },
  {
   "cell_type": "code",
   "execution_count": 8,
   "id": "a29c1b5b",
   "metadata": {},
   "outputs": [
    {
     "name": "stdout",
     "output_type": "stream",
     "text": [
      "[3 4 5 6 7 8] [0 1 2]\n",
      "[0 1 2 6 7 8] [3 4 5]\n",
      "[0 1 2 3 4 5] [6 7 8]\n"
     ]
    }
   ],
   "source": [
    "for train_index, test_index in kf.split([1,2,3,4,5,6,7,8,9]):\n",
    "    print(train_index, test_index)"
   ]
  },
  {
   "cell_type": "code",
   "execution_count": 9,
   "id": "0c06647d",
   "metadata": {},
   "outputs": [],
   "source": [
    "#Making a function\n",
    "def get_score(model, X_train, X_test, y_train, y_test):\n",
    "    model.fit(X_train, y_train)\n",
    "    return model.score(X_test, y_test)"
   ]
  },
  {
   "cell_type": "code",
   "execution_count": 12,
   "id": "b6c3628e",
   "metadata": {},
   "outputs": [
    {
     "data": {
      "text/plain": [
       "0.9907407407407407"
      ]
     },
     "execution_count": 12,
     "metadata": {},
     "output_type": "execute_result"
    }
   ],
   "source": [
    "get_score(SVC(), X_train, X_test, y_train, y_test)"
   ]
  },
  {
   "cell_type": "code",
   "execution_count": 15,
   "id": "87309c46",
   "metadata": {},
   "outputs": [
    {
     "name": "stderr",
     "output_type": "stream",
     "text": [
      "D:\\AnaCONDA1\\lib\\site-packages\\sklearn\\linear_model\\_logistic.py:458: ConvergenceWarning: lbfgs failed to converge (status=1):\n",
      "STOP: TOTAL NO. of ITERATIONS REACHED LIMIT.\n",
      "\n",
      "Increase the number of iterations (max_iter) or scale the data as shown in:\n",
      "    https://scikit-learn.org/stable/modules/preprocessing.html\n",
      "Please also refer to the documentation for alternative solver options:\n",
      "    https://scikit-learn.org/stable/modules/linear_model.html#logistic-regression\n",
      "  n_iter_i = _check_optimize_result(\n"
     ]
    },
    {
     "data": {
      "text/plain": [
       "0.9555555555555556"
      ]
     },
     "execution_count": 15,
     "metadata": {},
     "output_type": "execute_result"
    }
   ],
   "source": [
    "get_score(LogisticRegression(), X_train, X_test, y_train, y_test)"
   ]
  },
  {
   "cell_type": "code",
   "execution_count": 16,
   "id": "857844a2",
   "metadata": {},
   "outputs": [],
   "source": [
    "from sklearn.model_selection import StratifiedKFold\n",
    "folds = StratifiedKFold(n_splits=3)\n",
    "\n",
    "scores_logistic = []\n",
    "scores_svm = []\n",
    "scores_rf = []\n",
    "\n",
    "for train_index, test_index in folds.split(digits.data,digits.target):\n",
    "    X_train, X_test, y_train, y_test = digits.data[train_index], digits.data[test_index], \\\n",
    "                                       digits.target[train_index], digits.target[test_index]\n",
    "    scores_logistic.append(get_score(LogisticRegression(solver='liblinear',multi_class='ovr'), X_train, X_test, y_train, y_test))  \n",
    "    scores_svm.append(get_score(SVC(gamma='auto'), X_train, X_test, y_train, y_test))\n",
    "    scores_rf.append(get_score(RandomForestClassifier(n_estimators=40), X_train, X_test, y_train, y_test))"
   ]
  },
  {
   "cell_type": "code",
   "execution_count": 17,
   "id": "2bffa7ef",
   "metadata": {},
   "outputs": [
    {
     "data": {
      "text/plain": [
       "[0.8948247078464107, 0.9532554257095158, 0.9098497495826378]"
      ]
     },
     "execution_count": 17,
     "metadata": {},
     "output_type": "execute_result"
    }
   ],
   "source": [
    "scores_logistic"
   ]
  },
  {
   "cell_type": "code",
   "execution_count": 18,
   "id": "cea3dd29",
   "metadata": {},
   "outputs": [
    {
     "data": {
      "text/plain": [
       "[0.3806343906510851, 0.41068447412353926, 0.5125208681135225]"
      ]
     },
     "execution_count": 18,
     "metadata": {},
     "output_type": "execute_result"
    }
   ],
   "source": [
    "scores_svm"
   ]
  },
  {
   "cell_type": "code",
   "execution_count": 19,
   "id": "56cb2dee",
   "metadata": {},
   "outputs": [
    {
     "data": {
      "text/plain": [
       "[0.9365609348914858, 0.9465776293823038, 0.9148580968280468]"
      ]
     },
     "execution_count": 19,
     "metadata": {},
     "output_type": "execute_result"
    }
   ],
   "source": [
    "scores_rf"
   ]
  },
  {
   "cell_type": "code",
   "execution_count": 20,
   "id": "d5e5088b",
   "metadata": {},
   "outputs": [],
   "source": [
    "#One lines\n",
    "#cross_val_score uses stratifield kfold by default\n",
    "from sklearn.model_selection import cross_val_score"
   ]
  },
  {
   "cell_type": "code",
   "execution_count": 21,
   "id": "b44ea860",
   "metadata": {},
   "outputs": [
    {
     "data": {
      "text/plain": [
       "array([0.89482471, 0.95325543, 0.90984975])"
      ]
     },
     "execution_count": 21,
     "metadata": {},
     "output_type": "execute_result"
    }
   ],
   "source": [
    "cross_val_score(LogisticRegression(solver='liblinear',multi_class='ovr'), digits.data, digits.target,cv=3)"
   ]
  },
  {
   "cell_type": "code",
   "execution_count": 22,
   "id": "6404b8e7",
   "metadata": {},
   "outputs": [
    {
     "data": {
      "text/plain": [
       "array([0.38063439, 0.41068447, 0.51252087])"
      ]
     },
     "execution_count": 22,
     "metadata": {},
     "output_type": "execute_result"
    }
   ],
   "source": [
    "\n",
    "cross_val_score(SVC(gamma='auto'), digits.data, digits.target,cv=3)"
   ]
  },
  {
   "cell_type": "code",
   "execution_count": 23,
   "id": "f91e80e7",
   "metadata": {},
   "outputs": [
    {
     "data": {
      "text/plain": [
       "array([0.93322204, 0.94323873, 0.9081803 ])"
      ]
     },
     "execution_count": 23,
     "metadata": {},
     "output_type": "execute_result"
    }
   ],
   "source": [
    "cross_val_score(RandomForestClassifier(n_estimators=40),digits.data, digits.target,cv=3)"
   ]
  },
  {
   "cell_type": "code",
   "execution_count": 24,
   "id": "97aec373",
   "metadata": {},
   "outputs": [
    {
     "data": {
      "text/plain": [
       "0.8737150837988826"
      ]
     },
     "execution_count": 24,
     "metadata": {},
     "output_type": "execute_result"
    }
   ],
   "source": [
    "scores1 = cross_val_score(RandomForestClassifier(n_estimators=5),digits.data, digits.target, cv=10)\n",
    "np.average(scores1)"
   ]
  },
  {
   "cell_type": "code",
   "execution_count": 25,
   "id": "17b552b8",
   "metadata": {},
   "outputs": [
    {
     "data": {
      "text/plain": [
       "0.9348882681564245"
      ]
     },
     "execution_count": 25,
     "metadata": {},
     "output_type": "execute_result"
    }
   ],
   "source": [
    "scores2 = cross_val_score(RandomForestClassifier(n_estimators=20),digits.data, digits.target, cv=10)\n",
    "np.average(scores2)"
   ]
  },
  {
   "cell_type": "code",
   "execution_count": 26,
   "id": "544f1b20",
   "metadata": {},
   "outputs": [
    {
     "data": {
      "text/plain": [
       "0.938234016139044"
      ]
     },
     "execution_count": 26,
     "metadata": {},
     "output_type": "execute_result"
    }
   ],
   "source": [
    "scores3 = cross_val_score(RandomForestClassifier(n_estimators=30),digits.data, digits.target, cv=10)\n",
    "np.average(scores3)"
   ]
  },
  {
   "cell_type": "code",
   "execution_count": null,
   "id": "2ed8ac21",
   "metadata": {},
   "outputs": [],
   "source": [
    "scores4 = cross_val_score(RandomForestClassifier(n_estimators=40),digits.data, digits.target, cv=10)\n",
    "np.average(scores4)"
   ]
  }
 ],
 "metadata": {
  "kernelspec": {
   "display_name": "Python 3 (ipykernel)",
   "language": "python",
   "name": "python3"
  },
  "language_info": {
   "codemirror_mode": {
    "name": "ipython",
    "version": 3
   },
   "file_extension": ".py",
   "mimetype": "text/x-python",
   "name": "python",
   "nbconvert_exporter": "python",
   "pygments_lexer": "ipython3",
   "version": "3.10.5"
  }
 },
 "nbformat": 4,
 "nbformat_minor": 5
}
